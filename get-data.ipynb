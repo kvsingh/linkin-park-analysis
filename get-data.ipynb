{
 "cells": [
  {
   "cell_type": "code",
   "execution_count": 2,
   "metadata": {
    "collapsed": true
   },
   "outputs": [
    {
     "ename": "ImportError",
     "evalue": "No module named pygn",
     "output_type": "error",
     "traceback": [
      "\u001b[0;31m---------------------------------------------------------------------------\u001b[0m",
      "\u001b[0;31mImportError\u001b[0m                               Traceback (most recent call last)",
      "\u001b[0;32m<ipython-input-2-70d2782f899d>\u001b[0m in \u001b[0;36m<module>\u001b[0;34m()\u001b[0m\n\u001b[1;32m      2\u001b[0m \u001b[0;32mimport\u001b[0m \u001b[0mmath\u001b[0m\u001b[0;34m\u001b[0m\u001b[0m\n\u001b[1;32m      3\u001b[0m \u001b[0;32mimport\u001b[0m \u001b[0mpandas\u001b[0m \u001b[0;32mas\u001b[0m \u001b[0mpd\u001b[0m\u001b[0;34m\u001b[0m\u001b[0m\n\u001b[0;32m----> 4\u001b[0;31m \u001b[0;32mimport\u001b[0m \u001b[0mpygnstuff\u001b[0m\u001b[0;34m\u001b[0m\u001b[0m\n\u001b[0m",
      "\u001b[0;32m/home/karan/code/linkin-park-analysis/pygnstuff.py\u001b[0m in \u001b[0;36m<module>\u001b[0;34m()\u001b[0m\n\u001b[0;32m----> 1\u001b[0;31m \u001b[0;32mimport\u001b[0m \u001b[0mpygn\u001b[0m\u001b[0;34m\u001b[0m\u001b[0m\n\u001b[0m\u001b[1;32m      2\u001b[0m \u001b[0;34m\u001b[0m\u001b[0m\n\u001b[1;32m      3\u001b[0m \u001b[0;31m# NOTE: Gracenote API has built-in fuzzy matching to artist and track.\u001b[0m\u001b[0;34m\u001b[0m\u001b[0;34m\u001b[0m\u001b[0m\n\u001b[1;32m      4\u001b[0m \u001b[0;32mfrom\u001b[0m \u001b[0mcollections\u001b[0m \u001b[0;32mimport\u001b[0m \u001b[0mdefaultdict\u001b[0m\u001b[0;34m\u001b[0m\u001b[0m\n\u001b[1;32m      5\u001b[0m \u001b[0;34m\u001b[0m\u001b[0m\n",
      "\u001b[0;31mImportError\u001b[0m: No module named pygn"
     ]
    }
   ],
   "source": [
    "import spotipy\n",
    "import math\n",
    "import pandas as pd\n",
    "import pygnstuff"
   ]
  },
  {
   "cell_type": "code",
   "execution_count": 3,
   "metadata": {},
   "outputs": [],
   "source": [
    "from spotipy.oauth2 import SpotifyClientCredentials\n",
    "client_credentials_manager = SpotifyClientCredentials(client_id = 'yourclientid',\n",
    "                                                      client_secret='youclientsecret')"
   ]
  },
  {
   "cell_type": "code",
   "execution_count": 4,
   "metadata": {},
   "outputs": [],
   "source": [
    "spotify = spotipy.Spotify(client_credentials_manager=client_credentials_manager)"
   ]
  },
  {
   "cell_type": "code",
   "execution_count": 5,
   "metadata": {},
   "outputs": [],
   "source": [
    "albums_foo = spotify.artist_albums(artist_id='6XyY86QOPPrYVGvF9ch6wz', limit=50)"
   ]
  },
  {
   "cell_type": "code",
   "execution_count": 6,
   "metadata": {},
   "outputs": [],
   "source": [
    "albums = filter(lambda a: a['album_type'] != 'single', albums_foo['items'])"
   ]
  },
  {
   "cell_type": "code",
   "execution_count": 7,
   "metadata": {
    "collapsed": true
   },
   "outputs": [
    {
     "name": "stdout",
     "output_type": "stream",
     "text": [
      "One More Light Live 0zcNtUZ2oEpRmiDuWBFvcX 2017-12-15 album album\n",
      "One More Light 5Eevxp2BCbWq25ZdiXRwYd 2017-05-19 album album\n",
      "The Hunting Party: Acapellas + Instrumentals 6hU9JCoqq4GjYq86dQ1o9b 2014-06-16 album album\n",
      "The Hunting Party 3XB2yloP7l00tEUmaODtVi 2014-06-13 album album\n",
      "A LIGHT THAT NEVER COMES REMIX 1QefzFY9ye97hXbX1iw36K 2014-04-01 album album\n",
      "RECHARGED 2FUsvD1bw53HGOjAg56vRD 2013-10-25 album album\n",
      "LIVING THINGS: Acapellas and Instrumentals 7qRKpkP0jSOlBMLYZhAMCh 2012-06-25 album album\n",
      "LIVING THINGS 4XHIjbhjRmqWlosjj5rqSI 2012-06-20 album album\n",
      "A Thousand Suns Live Around The World 0hJ3A7sih1AXDoMjXHLr7Q 2012-06-19 album album\n",
      "Minutes To Midnight Live Around The World 7IYqppCBhR5z9z8JqgXuxi 2012-06-12 album album\n",
      "Meteora Live Around The World 4flcwtqnLoKZJ2wrCp1aJq 2012-06-05 album album\n",
      "Hybrid Theory Live Around The World 1FiRqhpAowNK8gTl5sOhxZ 2012-05-31 album album\n",
      "A Thousand Suns 5eg11Z64gD475AWBJf0l3G 2010-09-13 album album\n",
      "A Thousand Suns 4i72nO5bkn1558MMvx29qE 2010-09-13 album album\n",
      "A Thousand Suns 6sifUWah3rpUMeQDrfmym0 2010-09-13 album album\n",
      "A Thousand Suns (Bonus Version) 4fy0SXW5G8evBCo2A3kn02 2010-09-13 album album\n",
      "A Thousand Suns 5uvXx5ZQswNRFCdHR521YZ 2010-09-10 album album\n",
      "Road To Revolution: Live At Milton Keynes 7IjD1U0ig5h7nwXYtexLok 2008-11-24 album album\n",
      "Road To Revolution: Live At Milton Keynes 72seWTJF9U5SljizfyF2ZK 2008-11-21 album album\n",
      "Minutes To Midnight (Explicit Version) 2tlTBLz2w52rpGCLBGyGw6 2007-05-14 album album\n",
      "Minutes To Midnight 2o9eDjjRJ3b4RpGJocrI1Q 2007-05-14 album album\n",
      "Minutes To Midnight 108CU1JE5mXMvYM5jul8TX 2007-05-14 album album\n",
      "Minutes To Midnight 2S59xJbWdMDKxoGavS6UMo 2007-05-14 album album\n",
      "Minutes To Midnight (Circuit City DMD) 7pgs38iLfEqUtwgCRgvbND 2007-05-14 album album\n",
      "Minutes To Midnight 2FJ7JZqCtWXd9MjuBQhCP4 2007-05-11 album album\n",
      "Live In Texas 0ZBE7rVC0zKFVt5osvXlnz 2003-11-18 album album\n",
      "Meteora (Bonus Track Version) 0f7R0jf0pcTb6K6IVVPcMD 2003-03-24 album album\n",
      "Meteora 0y13VbGddQ4azdVWakksAL 2003-03-24 album album\n",
      "Meteora 4Gfnly5CzMJQqkUFfoHaP3 2003-03-24 album album\n",
      "Reanimation 1MhedvSCTqGphXQz3oucpj 2002-07-29 album album\n",
      "Reanimation 1OZ7GnepAtCfGivyYPCWUM 2002-07-29 album album\n",
      "Reanimation 306sYOUQZHqCpWEU69ynBR 2002-07-29 album album\n",
      "Reanimation 2NbO8RRVTVEUjHaxUVdMDT 2002-07-29 album album\n",
      "Reanimation 5n6s1bNj9lBrNaA2cxYuU1 2002-07-29 album album\n",
      "Hybrid Theory 5hYhOBfTLhbLL7VrPibxho 2000-10-24 album album\n",
      "Hybrid Theory (Bonus Track Version) 6hPkbAV3ZXpGZBGUvL6jVM 2000-10-24 album album\n",
      "Hybrid Theory (U.S. Version) 6PFPjumGRpZnBzqnDci6qJ 2000-10-24 album album\n",
      "Hybrid Theory 2pKw6GERJVAD61449B1EEM 2000-10-24 album album\n"
     ]
    }
   ],
   "source": [
    "for album in albums:\n",
    "    print album['name'], album['id'], album['release_date'], album['album_type'], album['type']"
   ]
  },
  {
   "cell_type": "code",
   "execution_count": 10,
   "metadata": {},
   "outputs": [],
   "source": [
    "album_ids = ['5Eevxp2BCbWq25ZdiXRwYd', '3XB2yloP7l00tEUmaODtVi', '4XHIjbhjRmqWlosjj5rqSI', \n",
    "             '5uvXx5ZQswNRFCdHR521YZ', '2FJ7JZqCtWXd9MjuBQhCP4', '4Gfnly5CzMJQqkUFfoHaP3',\n",
    "            '2NbO8RRVTVEUjHaxUVdMDT', '6PFPjumGRpZnBzqnDci6qJ']\n",
    "album_names = ['Onemorelight', 'Huntingparty', 'Livingthings', 'Thousandsuns', 'Minutes', \n",
    "              'Meteora', 'Reanimation', 'Hybrid']"
   ]
  },
  {
   "cell_type": "code",
   "execution_count": 11,
   "metadata": {},
   "outputs": [],
   "source": [
    "album_replace = {}\n",
    "for id,name in zip(album_ids, album_names):\n",
    "    album_replace[id] = name"
   ]
  },
  {
   "cell_type": "code",
   "execution_count": 23,
   "metadata": {},
   "outputs": [],
   "source": [
    "features_required = ['energy', 'duration_ms', 'loudness', 'valence']"
   ]
  },
  {
   "cell_type": "code",
   "execution_count": 24,
   "metadata": {},
   "outputs": [],
   "source": [
    "def get_track_features(songs, service):\n",
    "    track_ids = [foo['id'] for foo in songs]\n",
    "    chunk_size = 50\n",
    "    num_chunks = int(math.ceil(len(track_ids) / float(chunk_size)))\n",
    "    features_add = []\n",
    "    for i in range(num_chunks):\n",
    "        chunk_track_ids = track_ids[i*chunk_size:(i+1)*chunk_size]\n",
    "        chunk_features = service.audio_features(tracks=chunk_track_ids)\n",
    "        features_add.extend(chunk_features)\n",
    "    \n",
    "    features_df = pd.DataFrame(features_add)\n",
    "    features_df = features_df[features_required]\n",
    "    return features_df"
   ]
  },
  {
   "cell_type": "code",
   "execution_count": 25,
   "metadata": {
    "collapsed": true
   },
   "outputs": [
    {
     "name": "stdout",
     "output_type": "stream",
     "text": [
      "5Eevxp2BCbWq25ZdiXRwYd\n",
      "3XB2yloP7l00tEUmaODtVi\n",
      "4XHIjbhjRmqWlosjj5rqSI\n",
      "5uvXx5ZQswNRFCdHR521YZ\n",
      "2FJ7JZqCtWXd9MjuBQhCP4\n",
      "4Gfnly5CzMJQqkUFfoHaP3\n",
      "2NbO8RRVTVEUjHaxUVdMDT\n",
      "6PFPjumGRpZnBzqnDci6qJ\n"
     ]
    }
   ],
   "source": [
    "songs_df_data = []\n",
    "for album_id in album_ids:\n",
    "    #get songs in the album\n",
    "    songs = spotify.album_tracks(album_id=album_id)['items']\n",
    "    features = get_track_features(songs, spotify)\n",
    "    features = features.values.tolist()\n",
    "    moods = [pygnstuff.get_mood(foo['artists'][0]['name'], foo['name']) for foo in songs]\n",
    "    for (track, feature, mood) in zip(songs, features, moods):\n",
    "        t = track\n",
    "        this_row = [t['id'], t['name'], album_id]       \n",
    "        this_row.extend(feature)\n",
    "        this_row.extend(mood)\n",
    "        songs_df_data.append(this_row)\n",
    "    print album_id"
   ]
  },
  {
   "cell_type": "code",
   "execution_count": 26,
   "metadata": {
    "scrolled": true
   },
   "outputs": [
    {
     "data": {
      "text/plain": [
       "107"
      ]
     },
     "execution_count": 26,
     "metadata": {},
     "output_type": "execute_result"
    }
   ],
   "source": [
    "len(songs_df_data)"
   ]
  },
  {
   "cell_type": "code",
   "execution_count": 28,
   "metadata": {},
   "outputs": [],
   "source": [
    "import pandas as pd\n",
    "songs_df = pd.DataFrame(songs_df_data, columns=['id', 'name', 'album', 'energy', \n",
    "                                                'duration_ms', 'loudness','valence',\n",
    "                                                'mood']).drop_duplicates(subset='id')"
   ]
  },
  {
   "cell_type": "code",
   "execution_count": 33,
   "metadata": {},
   "outputs": [],
   "source": [
    "songs_df.replace(to_replace=album_replace, inplace=True)"
   ]
  },
  {
   "cell_type": "code",
   "execution_count": null,
   "metadata": {},
   "outputs": [],
   "source": [
    "#following is used to convert moods to arousal-positivity scale\n",
    "mood_map = {'peaceful': (-2,2), 'easygoing': (-1,2), 'tender': (-2,1), 'romantic': (-1,1),\n",
    "        'upbeat': (0,2), 'empowering': (0,1),\n",
    "        'lively': (1,2), 'exciting': (2,2), 'stirring': (1,1), 'rowdy': (2,1),\n",
    "        'sentimental': (-2,0), 'sophisticated': (-1,0),\n",
    "        'sensual': (0,0),\n",
    "        'fiery': (1,0), 'energizing': (2,0),\n",
    "        'melancholy': (-2,-1), 'cool': (-1,-1), 'somber': (-2,-2), 'gritty': (-1,-2),\n",
    "        'yearning': (0,-1), 'serious': (0,-2),\n",
    "        'urgent': (1,-1), 'defiant': (2,-1), 'brooding': (1,-2), 'aggressive': (2,-2)}\n",
    "        # removing 'Other': (0,0)}"
   ]
  },
  {
   "cell_type": "code",
   "execution_count": null,
   "metadata": {},
   "outputs": [],
   "source": [
    "def clean_data_from_pygn(data):\n",
    "    import subprocess\n",
    "    #some data cleaning\n",
    "    data.to_csv('something.csv', encoding='utf-8')\n",
    "    subprocess.call([\"sed -i 's/\\[\\]//g' something.csv\"], shell=True)\n",
    "    data = pd.read_csv('something.csv')\n",
    "    data.dropna(inplace=True)\n",
    "    #convert 25 moods to 9 by first converting to arousal positivity scale and then mapping them to the nearest mood\n",
    "    replace_dict = {}\n",
    "    for mood_item in mood_map.items():\n",
    "        mood, (x,y) = mood_item\n",
    "        new_x, new_y = (x,y)\n",
    "        if abs(x) == 1:\n",
    "            new_x = 0\n",
    "        if abs(y) == 1:\n",
    "            new_y = 0\n",
    "        replace_dict[mood] = reverse_mood_map[(new_x, new_y)]\n",
    "    data = data[data.mood!='Other']\n",
    "    data.mood = data.mood.astype(str)\n",
    "    data['mood'] = data['mood'].apply(lambda a: a.lower())\n",
    "    data.mood.replace(replace_dict, inplace=True)\n",
    "    return data"
   ]
  },
  {
   "cell_type": "code",
   "execution_count": null,
   "metadata": {},
   "outputs": [],
   "source": [
    "from util import clean_data_from_pygn\n",
    "songs_df = clean_data_from_pygn(songs_df)"
   ]
  },
  {
   "cell_type": "markdown",
   "metadata": {},
   "source": [
    "#### Remove reanimation - only considering studio albums"
   ]
  },
  {
   "cell_type": "code",
   "execution_count": 41,
   "metadata": {},
   "outputs": [],
   "source": [
    "songs_df = songs_df[songs_df.album != \"Reanimation\"]\n",
    "songs_df['duration'] = songs_df['duration_ms']/60000.0\n",
    "songs_df.drop(['duration_ms'], inplace=True, axis=1)"
   ]
  },
  {
   "cell_type": "code",
   "execution_count": 43,
   "metadata": {},
   "outputs": [],
   "source": [
    "import pickle"
   ]
  },
  {
   "cell_type": "code",
   "execution_count": 45,
   "metadata": {},
   "outputs": [],
   "source": [
    "pickle.dump(songs_df, open('lp-data-moods.p', 'wb'))"
   ]
  }
 ],
 "metadata": {
  "kernelspec": {
   "display_name": "Python 2",
   "language": "python",
   "name": "python2"
  },
  "language_info": {
   "codemirror_mode": {
    "name": "ipython",
    "version": 2
   },
   "file_extension": ".py",
   "mimetype": "text/x-python",
   "name": "python",
   "nbconvert_exporter": "python",
   "pygments_lexer": "ipython2",
   "version": "2.7.12"
  }
 },
 "nbformat": 4,
 "nbformat_minor": 2
}
