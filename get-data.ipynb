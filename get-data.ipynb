{
 "cells": [
  {
   "cell_type": "code",
   "execution_count": 15,
   "metadata": {},
   "outputs": [],
   "source": [
    "import spotipy\n",
    "import math\n",
    "import pandas as pd"
   ]
  },
  {
   "cell_type": "code",
   "execution_count": 3,
   "metadata": {},
   "outputs": [],
   "source": [
    "from spotipy.oauth2 import SpotifyClientCredentials\n",
    "client_credentials_manager = SpotifyClientCredentials(client_id = 'yourclientid',\n",
    "                                                      client_secret='youclientsecret')"
   ]
  },
  {
   "cell_type": "code",
   "execution_count": 4,
   "metadata": {},
   "outputs": [],
   "source": [
    "spotify = spotipy.Spotify(client_credentials_manager=client_credentials_manager)"
   ]
  },
  {
   "cell_type": "code",
   "execution_count": 5,
   "metadata": {},
   "outputs": [],
   "source": [
    "albums_foo = spotify.artist_albums(artist_id='6XyY86QOPPrYVGvF9ch6wz', limit=50)"
   ]
  },
  {
   "cell_type": "code",
   "execution_count": 6,
   "metadata": {},
   "outputs": [],
   "source": [
    "albums = filter(lambda a: a['album_type'] != 'single', albums_foo['items'])"
   ]
  },
  {
   "cell_type": "code",
   "execution_count": 7,
   "metadata": {
    "collapsed": true
   },
   "outputs": [
    {
     "name": "stdout",
     "output_type": "stream",
     "text": [
      "One More Light Live 0zcNtUZ2oEpRmiDuWBFvcX 2017-12-15 album album\n",
      "One More Light 5Eevxp2BCbWq25ZdiXRwYd 2017-05-19 album album\n",
      "The Hunting Party: Acapellas + Instrumentals 6hU9JCoqq4GjYq86dQ1o9b 2014-06-16 album album\n",
      "The Hunting Party 3XB2yloP7l00tEUmaODtVi 2014-06-13 album album\n",
      "A LIGHT THAT NEVER COMES REMIX 1QefzFY9ye97hXbX1iw36K 2014-04-01 album album\n",
      "RECHARGED 2FUsvD1bw53HGOjAg56vRD 2013-10-25 album album\n",
      "LIVING THINGS: Acapellas and Instrumentals 7qRKpkP0jSOlBMLYZhAMCh 2012-06-25 album album\n",
      "LIVING THINGS 4XHIjbhjRmqWlosjj5rqSI 2012-06-20 album album\n",
      "A Thousand Suns Live Around The World 0hJ3A7sih1AXDoMjXHLr7Q 2012-06-19 album album\n",
      "Minutes To Midnight Live Around The World 7IYqppCBhR5z9z8JqgXuxi 2012-06-12 album album\n",
      "Meteora Live Around The World 4flcwtqnLoKZJ2wrCp1aJq 2012-06-05 album album\n",
      "Hybrid Theory Live Around The World 1FiRqhpAowNK8gTl5sOhxZ 2012-05-31 album album\n",
      "A Thousand Suns 5eg11Z64gD475AWBJf0l3G 2010-09-13 album album\n",
      "A Thousand Suns 4i72nO5bkn1558MMvx29qE 2010-09-13 album album\n",
      "A Thousand Suns 6sifUWah3rpUMeQDrfmym0 2010-09-13 album album\n",
      "A Thousand Suns (Bonus Version) 4fy0SXW5G8evBCo2A3kn02 2010-09-13 album album\n",
      "A Thousand Suns 5uvXx5ZQswNRFCdHR521YZ 2010-09-10 album album\n",
      "Road To Revolution: Live At Milton Keynes 7IjD1U0ig5h7nwXYtexLok 2008-11-24 album album\n",
      "Road To Revolution: Live At Milton Keynes 72seWTJF9U5SljizfyF2ZK 2008-11-21 album album\n",
      "Minutes To Midnight (Explicit Version) 2tlTBLz2w52rpGCLBGyGw6 2007-05-14 album album\n",
      "Minutes To Midnight 2o9eDjjRJ3b4RpGJocrI1Q 2007-05-14 album album\n",
      "Minutes To Midnight 108CU1JE5mXMvYM5jul8TX 2007-05-14 album album\n",
      "Minutes To Midnight 2S59xJbWdMDKxoGavS6UMo 2007-05-14 album album\n",
      "Minutes To Midnight (Circuit City DMD) 7pgs38iLfEqUtwgCRgvbND 2007-05-14 album album\n",
      "Minutes To Midnight 2FJ7JZqCtWXd9MjuBQhCP4 2007-05-11 album album\n",
      "Live In Texas 0ZBE7rVC0zKFVt5osvXlnz 2003-11-18 album album\n",
      "Meteora (Bonus Track Version) 0f7R0jf0pcTb6K6IVVPcMD 2003-03-24 album album\n",
      "Meteora 0y13VbGddQ4azdVWakksAL 2003-03-24 album album\n",
      "Meteora 4Gfnly5CzMJQqkUFfoHaP3 2003-03-24 album album\n",
      "Reanimation 1MhedvSCTqGphXQz3oucpj 2002-07-29 album album\n",
      "Reanimation 1OZ7GnepAtCfGivyYPCWUM 2002-07-29 album album\n",
      "Reanimation 306sYOUQZHqCpWEU69ynBR 2002-07-29 album album\n",
      "Reanimation 2NbO8RRVTVEUjHaxUVdMDT 2002-07-29 album album\n",
      "Reanimation 5n6s1bNj9lBrNaA2cxYuU1 2002-07-29 album album\n",
      "Hybrid Theory 5hYhOBfTLhbLL7VrPibxho 2000-10-24 album album\n",
      "Hybrid Theory (Bonus Track Version) 6hPkbAV3ZXpGZBGUvL6jVM 2000-10-24 album album\n",
      "Hybrid Theory (U.S. Version) 6PFPjumGRpZnBzqnDci6qJ 2000-10-24 album album\n",
      "Hybrid Theory 2pKw6GERJVAD61449B1EEM 2000-10-24 album album\n"
     ]
    }
   ],
   "source": [
    "for album in albums:\n",
    "    print album['name'], album['id'], album['release_date'], album['album_type'], album['type']"
   ]
  },
  {
   "cell_type": "code",
   "execution_count": 10,
   "metadata": {},
   "outputs": [],
   "source": [
    "album_ids = ['5Eevxp2BCbWq25ZdiXRwYd', '3XB2yloP7l00tEUmaODtVi', '4XHIjbhjRmqWlosjj5rqSI', \n",
    "             '5uvXx5ZQswNRFCdHR521YZ', '2FJ7JZqCtWXd9MjuBQhCP4', '4Gfnly5CzMJQqkUFfoHaP3',\n",
    "            '2NbO8RRVTVEUjHaxUVdMDT', '6PFPjumGRpZnBzqnDci6qJ']\n",
    "album_names = ['Onemorelight', 'Huntingparty', 'Livingthings', 'Thousandsuns', 'Minutes', \n",
    "              'Meteora', 'Reanimation', 'Hybrid']"
   ]
  },
  {
   "cell_type": "code",
   "execution_count": 11,
   "metadata": {},
   "outputs": [],
   "source": [
    "album_replace = {}\n",
    "for id,name in zip(album_ids, album_names):\n",
    "    album_replace[id] = name"
   ]
  },
  {
   "cell_type": "code",
   "execution_count": 23,
   "metadata": {},
   "outputs": [],
   "source": [
    "features_required = ['energy', 'duration_ms', 'loudness', 'valence']"
   ]
  },
  {
   "cell_type": "code",
   "execution_count": 24,
   "metadata": {},
   "outputs": [],
   "source": [
    "def get_track_features(songs, service):\n",
    "    track_ids = [foo['id'] for foo in songs]\n",
    "    chunk_size = 50\n",
    "    num_chunks = int(math.ceil(len(track_ids) / float(chunk_size)))\n",
    "    features_add = []\n",
    "    for i in range(num_chunks):\n",
    "        chunk_track_ids = track_ids[i*chunk_size:(i+1)*chunk_size]\n",
    "        chunk_features = service.audio_features(tracks=chunk_track_ids)\n",
    "        features_add.extend(chunk_features)\n",
    "    \n",
    "    features_df = pd.DataFrame(features_add)\n",
    "    features_df = features_df[features_required]\n",
    "    return features_df"
   ]
  },
  {
   "cell_type": "code",
   "execution_count": 25,
   "metadata": {
    "collapsed": true
   },
   "outputs": [
    {
     "name": "stdout",
     "output_type": "stream",
     "text": [
      "5Eevxp2BCbWq25ZdiXRwYd\n",
      "3XB2yloP7l00tEUmaODtVi\n",
      "4XHIjbhjRmqWlosjj5rqSI\n",
      "5uvXx5ZQswNRFCdHR521YZ\n",
      "2FJ7JZqCtWXd9MjuBQhCP4\n",
      "4Gfnly5CzMJQqkUFfoHaP3\n",
      "2NbO8RRVTVEUjHaxUVdMDT\n",
      "6PFPjumGRpZnBzqnDci6qJ\n"
     ]
    }
   ],
   "source": [
    "songs_df_data = []\n",
    "for album_id in album_ids:\n",
    "    #get songs in the album\n",
    "    songs = spotify.album_tracks(album_id=album_id)['items']\n",
    "    features = get_track_features(songs, spotify)\n",
    "    features = features.values.tolist()\n",
    "    for (track, feature) in zip(songs, features):\n",
    "        t = track\n",
    "        this_row = [t['id'], t['name'], album_id]       \n",
    "        this_row.extend(feature)\n",
    "        songs_df_data.append(this_row)\n",
    "    print album_id"
   ]
  },
  {
   "cell_type": "code",
   "execution_count": 26,
   "metadata": {},
   "outputs": [
    {
     "data": {
      "text/plain": [
       "107"
      ]
     },
     "execution_count": 26,
     "metadata": {},
     "output_type": "execute_result"
    }
   ],
   "source": [
    "len(songs_df_data)"
   ]
  },
  {
   "cell_type": "code",
   "execution_count": 28,
   "metadata": {},
   "outputs": [],
   "source": [
    "import pandas as pd\n",
    "songs_df = pd.DataFrame(songs_df_data, columns=['id', 'name', 'album', 'energy', \n",
    "                                                'duration_ms', 'loudness','valence']).drop_duplicates(subset='id')"
   ]
  },
  {
   "cell_type": "code",
   "execution_count": 33,
   "metadata": {},
   "outputs": [],
   "source": [
    "songs_df.replace(to_replace=album_replace, inplace=True)"
   ]
  },
  {
   "cell_type": "markdown",
   "metadata": {},
   "source": [
    "#### Remove reanimation - only considering studio albums"
   ]
  },
  {
   "cell_type": "code",
   "execution_count": 41,
   "metadata": {},
   "outputs": [],
   "source": [
    "songs_df = songs_df[songs_df.album != \"Reanimation\"]\n",
    "songs_df['duration'] = songs_df['duration_ms']/60000.0\n",
    "songs_df.drop(['duration_ms'], inplace=True, axis=1)"
   ]
  },
  {
   "cell_type": "code",
   "execution_count": 43,
   "metadata": {},
   "outputs": [],
   "source": [
    "import pickle"
   ]
  },
  {
   "cell_type": "code",
   "execution_count": 45,
   "metadata": {},
   "outputs": [],
   "source": [
    "pickle.dump(songs_df, open('lp-data.p', 'wb'))"
   ]
  }
 ],
 "metadata": {
  "kernelspec": {
   "display_name": "Python 2",
   "language": "python",
   "name": "python2"
  },
  "language_info": {
   "codemirror_mode": {
    "name": "ipython",
    "version": 2
   },
   "file_extension": ".py",
   "mimetype": "text/x-python",
   "name": "python",
   "nbconvert_exporter": "python",
   "pygments_lexer": "ipython2",
   "version": "2.7.12"
  }
 },
 "nbformat": 4,
 "nbformat_minor": 2
}
